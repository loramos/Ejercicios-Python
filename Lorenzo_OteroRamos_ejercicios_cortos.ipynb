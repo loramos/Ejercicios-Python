{
 "cells": [
  {
   "cell_type": "markdown",
   "metadata": {},
   "source": [
    "# 15 Ejercicios cortos"
   ]
  },
  {
   "cell_type": "markdown",
   "metadata": {},
   "source": [
    "Este es un popurrí de ejercicios cortos sobre diseño de funciones y clases para coger algo de soltura.\n",
    "\n",
    "Cada ejercicio es independiente y no tiene relación con los anteriores (como norma general). Siéntete libre de importar las bibliotecas que quieras.\n",
    "\n",
    "En cada ejercicio deberás escribir la función/clase requerida, y probar a llamarla (o a crear una instancia) con valores de prueba."
   ]
  },
  {
   "cell_type": "markdown",
   "metadata": {},
   "source": [
    "#### 1. Escribe una función `hipotenusa` que tome como argumentos posicionales los dos catetos de un triángulo rectángulo y devuelva la hipotenusa de dicho triángulo."
   ]
  },
  {
   "cell_type": "code",
   "execution_count": 9,
   "metadata": {},
   "outputs": [
    {
     "data": {
      "text/plain": [
       "7.211102550927978"
      ]
     },
     "execution_count": 9,
     "metadata": {},
     "output_type": "execute_result"
    }
   ],
   "source": [
    "import math\n",
    "def hipotenusa(cateto1,cateto2):\n",
    "    hip = math.sqrt(cateto1**2 + cateto2**2)\n",
    "    return hip\n",
    "\n",
    "hipotenusa(4,6)"
   ]
  },
  {
   "cell_type": "markdown",
   "metadata": {},
   "source": [
    "#### 2. Define una clase que tenga al menos dos métodos: `setString`, que fija un string pasado como argumento como *instance variable*; y `getString`, que devuelve dicho string:"
   ]
  },
  {
   "cell_type": "code",
   "execution_count": 9,
   "metadata": {},
   "outputs": [
    {
     "name": "stdout",
     "output_type": "stream",
     "text": [
      "Hala Madrid\n"
     ]
    }
   ],
   "source": [
    "class MiClase:\n",
    "    def __init__(self):\n",
    "        self.string = \"\"\n",
    "\n",
    "    def setString(self, s):\n",
    "        self.string = s\n",
    "\n",
    "    def getString(self):\n",
    "        return self.string\n",
    "\n",
    "mi_objeto = MiClase()\n",
    "mi_objeto.setString(\"Hala Madrid\")\n",
    "print(mi_objeto.getString())"
   ]
  },
  {
   "cell_type": "markdown",
   "metadata": {},
   "source": [
    "#### 3. Escribe una función llamada `wordcount` que tome como argumento un solo string con varias palabras (separadas por espacios en blanco) y devuelva el número de palabras del string pasado:"
   ]
  },
  {
   "cell_type": "code",
   "execution_count": 2,
   "metadata": {},
   "outputs": [
    {
     "data": {
      "text/plain": [
       "4"
      ]
     },
     "execution_count": 2,
     "metadata": {},
     "output_type": "execute_result"
    }
   ],
   "source": [
    "def wordcount(mi_string):\n",
    "    palabras = mi_string.split()\n",
    "    numero_palabras = len(palabras)\n",
    "    return numero_palabras\n",
    "wordcount(\"me llamo lorenzo otero\")"
   ]
  },
  {
   "cell_type": "markdown",
   "metadata": {},
   "source": [
    "#### 4. Escribe una función llamada `divisibles_por_7` que tome como argumentos un número arbitrario de números enteros y devuelva una lista con solo aquellos que sean divisibles por 7 (sin dar decimales):"
   ]
  },
  {
   "cell_type": "code",
   "execution_count": 4,
   "metadata": {},
   "outputs": [
    {
     "name": "stdout",
     "output_type": "stream",
     "text": [
      "El numero aleatorio de numeros es:  10\n",
      "Dame los 10  numeros aleatorios:\n",
      "Los números aleatorios son: [14, 41, 50, 49, 53, 30, 82, 12, 30, 6]\n"
     ]
    },
    {
     "data": {
      "text/plain": [
       "[14, 49]"
      ]
     },
     "execution_count": 4,
     "metadata": {},
     "output_type": "execute_result"
    }
   ],
   "source": [
    "import random\n",
    "\n",
    "numero_aleatorio_de_numeros = random.randint(1, 10)\n",
    "print(\"El numero aleatorio de numeros es: \",numero_aleatorio_de_numeros)\n",
    "print(\"Dame los\",numero_aleatorio_de_numeros,\" numeros aleatorios:\")\n",
    "\n",
    "\n",
    "numeros_aleatorios = []\n",
    "\n",
    "for i in range(numero_aleatorio_de_numeros):\n",
    "    num_aleatorio = random.randint(1, 100)\n",
    "    numeros_aleatorios.append(num_aleatorio)\n",
    "\n",
    "print(\"Los números aleatorios son:\", numeros_aleatorios)\n",
    "\n",
    "def divisible_por_7(lista):\n",
    "    numeros_divisibles = []\n",
    "    for num in lista:\n",
    "        if num % 7 == 0:\n",
    "            numeros_divisibles.append(num)\n",
    "    return numeros_divisibles\n",
    "\n",
    "divisible_por_7(numeros_aleatorios)  "
   ]
  },
  {
   "cell_type": "markdown",
   "metadata": {},
   "source": [
    "#### 5. Escribe una función `factorial` que devuelva el factorial de un número entero."
   ]
  },
  {
   "cell_type": "code",
   "execution_count": 3,
   "metadata": {},
   "outputs": [
    {
     "data": {
      "text/plain": [
       "120"
      ]
     },
     "execution_count": 3,
     "metadata": {},
     "output_type": "execute_result"
    }
   ],
   "source": [
    "def factorial(n):\n",
    "    resultado = 1\n",
    "    for i in range(1, n+1):\n",
    "        resultado = resultado*i\n",
    "    return resultado\n",
    "factorial(5)"
   ]
  },
  {
   "cell_type": "markdown",
   "metadata": {},
   "source": [
    "####  6. Escribe una función `manhattan` que compute la distancia de Manhattan entre dos puntos bidimensionales (donde cada uno de estos puntos tiene coordenadas de la forma `(x,y)`):"
   ]
  },
  {
   "cell_type": "code",
   "execution_count": 10,
   "metadata": {},
   "outputs": [
    {
     "data": {
      "text/plain": [
       "9"
      ]
     },
     "execution_count": 10,
     "metadata": {},
     "output_type": "execute_result"
    }
   ],
   "source": [
    "def manhattan(x,y):\n",
    "    return abs(x[1]-x[0]) + abs(y[1]-y[0])\n",
    "    \n",
    "\n",
    "manhattan([1,5],[7,2])"
   ]
  },
  {
   "cell_type": "markdown",
   "metadata": {},
   "source": [
    "#### 7. Define una función `overlapping` que tome como argumento dos colecciones. Si ambas colecciones tienen al menos un elemento en común, debe devolver `True`. Si no es así, debe devolver `False`:"
   ]
  },
  {
   "cell_type": "code",
   "execution_count": 4,
   "metadata": {},
   "outputs": [
    {
     "data": {
      "text/plain": [
       "True"
      ]
     },
     "execution_count": 4,
     "metadata": {},
     "output_type": "execute_result"
    }
   ],
   "source": [
    "def overlapping(a,b):\n",
    "    if set(a) & set(b):\n",
    "        return True\n",
    "    else:\n",
    "         return False\n",
    "        \n",
    "overlapping(\"234j\",\"5j\") \n"
   ]
  },
  {
   "cell_type": "markdown",
   "metadata": {},
   "source": [
    "#### 8. Define una función `filtrar_palabras_largas` que tome como argumento una lista de palabras (strings), y una longitud máxima `n`. Esta función debe devolver una lista solo con las palabras que son más cortas que `n`:"
   ]
  },
  {
   "cell_type": "code",
   "execution_count": 11,
   "metadata": {},
   "outputs": [
    {
     "data": {
      "text/plain": [
       "['aaaa', 'bbbb']"
      ]
     },
     "execution_count": 11,
     "metadata": {},
     "output_type": "execute_result"
    }
   ],
   "source": [
    "def filtrar_palabras_largas(lista,longitud):\n",
    "    lista_palabras_cortas = []\n",
    "    for i in lista:\n",
    "        if len(i)< longitud:\n",
    "            lista_palabras_cortas.append(i)\n",
    "    return lista_palabras_cortas\n",
    "        \n",
    "    \n",
    "filtrar_palabras_largas([\"aaaa\",\"bbbb\",\"444444444\",\"5555555555555555555\"],9)    "
   ]
  },
  {
   "cell_type": "markdown",
   "metadata": {},
   "source": [
    "#### 9. Escribe una función `desv_tipica` que tome como argumento una distribución (lista) de números y devuelva la desviación típica. *Nota: aquí no vale utilizar Numpy ni pandas*:"
   ]
  },
  {
   "cell_type": "code",
   "execution_count": 7,
   "metadata": {},
   "outputs": [
    {
     "data": {
      "text/plain": [
       "1.2909944487358056"
      ]
     },
     "execution_count": 7,
     "metadata": {},
     "output_type": "execute_result"
    }
   ],
   "source": [
    "import statistics\n",
    "\n",
    "def desv_tipica(lista):\n",
    "    desviacion = statistics.stdev(lista)\n",
    "    return desviacion\n",
    "    \n",
    "    \n",
    "        \n",
    "desv_tipica([1,2,3,4])"
   ]
  },
  {
   "cell_type": "markdown",
   "metadata": {},
   "source": [
    "#### 10. Escribe una función `suma_hasta_el_primo` que tome como argumento una lista de números y:\n",
    "+ Vaya recorriendo la lista de izquierda a derecha.\n",
    "+ Si un número no es primo, lo sumará a una `suma_acumulada`.\n",
    "+ Si un número es primo, se interrumpe la ejecución y se devuelve la `suma_acumulada` (sin sumar el número primo) hasta el momento.\n",
    "\n",
    "*Pista:* igual te resulta más sencillo escribir dos funciones: una que chequee si un número es primo o no, y luego ya `suma_hasta_el_primo`, y que utilice internamente esa función de chequear primos."
   ]
  },
  {
   "cell_type": "code",
   "execution_count": 5,
   "metadata": {},
   "outputs": [
    {
     "data": {
      "text/plain": [
       "34"
      ]
     },
     "execution_count": 5,
     "metadata": {},
     "output_type": "execute_result"
    }
   ],
   "source": [
    "from sympy import isprime\n",
    "\n",
    "def suma_hasta_el_primo(lista):\n",
    "    suma_acumulada = 0\n",
    "    for i in lista:\n",
    "        if isprime(i)== True:\n",
    "            return suma_acumulada\n",
    "        else:\n",
    "            suma_acumulada = suma_acumulada + i\n",
    "    return suma_acumulada\n",
    "        \n",
    "suma_hasta_el_primo([20,10,4,5])"
   ]
  },
  {
   "cell_type": "markdown",
   "metadata": {},
   "source": [
    "####  11. Escribe una función `juego_de_numero` que:\n",
    "+ Tome como argumento un número (entero).\n",
    "+ Si el número es par, divídelo por 2.\n",
    "+ Si es impar, multiplícalo por 3 y súmale 1.\n",
    "+ Continúa haciéndolo hasta que tu resultado sea 1.\n",
    "+ Devuelve el número de \"números visitados\", incluyendo el inicial y el 1.\n",
    "\n",
    "Por ejemplo: si llamamos a `juego_de_numero(3)`, la secuencia es 3-10-5-16-8-4-2-1."
   ]
  },
  {
   "cell_type": "code",
   "execution_count": 10,
   "metadata": {},
   "outputs": [
    {
     "data": {
      "text/plain": [
       "8"
      ]
     },
     "execution_count": 10,
     "metadata": {},
     "output_type": "execute_result"
    }
   ],
   "source": [
    "def juego_de_numero(num):\n",
    "    numeros_visitados=1\n",
    "    while num!=1:\n",
    "        if num% 2 ==0:\n",
    "            num= num/2\n",
    "            numeros_visitados+=1\n",
    "        else:\n",
    "            num=num*3+1\n",
    "            numeros_visitados+=1\n",
    "    return numeros_visitados\n",
    "         \n",
    "        \n",
    "juego_de_numero(3)"
   ]
  },
  {
   "cell_type": "markdown",
   "metadata": {},
   "source": [
    "#### 12. Si probamos `juego_de_numero` con todos los números del 1 al 100, ¿cuál es el que da más \"números visitados\"?"
   ]
  },
  {
   "cell_type": "code",
   "execution_count": 14,
   "metadata": {},
   "outputs": [
    {
     "name": "stdout",
     "output_type": "stream",
     "text": [
      "El número que da más visitados es 97 con 119 visitados.\n"
     ]
    }
   ],
   "source": [
    "max_visitados = 0\n",
    "max_numero = 0\n",
    "\n",
    "for i in range(1, 101):\n",
    "    visitados = juego_de_numero(i)\n",
    "    if visitados > max_visitados:\n",
    "        max_visitados = visitados\n",
    "        max_numero = i\n",
    "\n",
    "print(f\"El número que da más visitados es {max_numero} con {max_visitados} visitados.\")"
   ]
  },
  {
   "cell_type": "markdown",
   "metadata": {},
   "source": [
    "#### 13. Consigue en una sola línea de código averiguar cuántos elementos distintos hay en la siguiente lista de 300 elementos:"
   ]
  },
  {
   "cell_type": "code",
   "execution_count": 9,
   "metadata": {},
   "outputs": [
    {
     "data": {
      "text/plain": [
       "241"
      ]
     },
     "execution_count": 9,
     "metadata": {},
     "output_type": "execute_result"
    }
   ],
   "source": [
    "la_lista = ['da', 'e', 'e', 'eccebd', 'fdfdce', 'ad', 'dadcd', 'baadede', 'ebb', 'f', 'acbdf', 'eeccb', 'fe', \n",
    "            'fcffbcc', 'dffadd', 'cbdeca', 'ff', 'aa', 'cbfe', 'aedaaf', 'd', 'efbfd', 'efaaee', 'dae', \n",
    "            'befdeb', 'daaecd', 'b', 'dddd', 'cae', 'ac', 'fee', 'ada', 'dbae', 'adfedd', 'e', 'ddaefca', \n",
    "            'bf', 'ddeceee', 'aae', 'bedbe', 'caafddf', 'ba', 'dcdf', 'edefcbd', 'cfdcb', 'dcbf', \n",
    "            'cfccefe', 'fd', 'fdae', 'eb', 'add', 'afaa', 'cdedabf', 'fdbebe', 'dfeae', 'debcca', \n",
    "            'eae', 'bfeddec', 'ccbbbb', 'af', 'c', 'ddcea', 'dabddf', 'efcaec', 'cec', 'bdfce', \n",
    "            'bacccdd', 'af', 'dd', 'c', 'acfdea', 'bacfc', 'bedaf', 'dfc', 'cefdbc', 'ebefc', 'cee', \n",
    "            'decacef', 'cfccddb', 'c', 'ebfb', 'acfb', 'c', 'aeede', 'fed', 'fabc', 'fcfb', 'ad', 'bc', \n",
    "            'aaadcd', 'cf', 'a', 'bc', 'ecaabcc', 'eeebce', 'eba', 'dfcaf', 'f', 'bcd', 'cc', 'daecffd', \n",
    "            'f', 'def', 'ebc', 'bcbcd', 'a', 'dbae', 'a', 'dbfdd', 'bdbbff', 'bacacdc', 'd', 'acfaab', 'f', \n",
    "            'dccfeba', 'dccf', 'defcce', 'cbbfbce', 'abddf', 'aaed', 'abfc', 'acab', 'bdceae', 'fc', 'cfdb', \n",
    "            'adbdb', 'e', 'cdbabf', 'fbaae', 'eaabda', 'bcdfea', 'bdcfaeb', 'afaccb', 'aa', 'fbdd', 'bae', \n",
    "            'b', 'ccdefc', 'c', 'fcffaa', 'aadeeb', 'ea', 'fcdfbf', 'fa', 'eccf', 'dcbcee', 'cbbd', 'fedcd', \n",
    "            'eeeec', 'aaafcbb', 'fafa', 'beaab', 'ecdf', 'cceaaf', 'dafdcf', 'cbfe', 'ff', 'd', 'e', 'ebcdb', \n",
    "            'ecb', 'f', 'bafb', 'dacdbf', 'ccd', 'abcc', 'ed', 'ddcdeb', 'bcb', 'cefbec', 'e', 'cddeb', \n",
    "            'eacccea', 'f', 'faeaaef', 'ddd', 'dfb', 'bda', 'acdf', 'fcffa', 'a', 'fc', 'baffac', 'efadfca', \n",
    "            'e', 'fb', 'bedfbd', 'eb', 'ceaece', 'fdcbfea', 'fda', 'fbbebf', 'cecbffa', 'beabecc', 'eddfc', \n",
    "            'bab', 'abfe', 'ab', 'bdada', 'ccdf', 'bfeaeaa', 'ac', 'eb', 'fbbbf', 'ddab', 'baddadd', 'bcbebec', \n",
    "            'afbaca', 'aa', 'db', 'aafcff', 'eabcadb', 'fe', 'adc', 'eabacbd', 'ffccdd', 'dbfdcc', 'cff', 'fbb', \n",
    "            'fadd', 'cbcb', 'bfeacde', 'feed', 'fbae', 'debb', 'dffe', 'de', 'eaeefc', 'ccedfb', 'eefb', \n",
    "            'fdddfd', 'fdfee', 'cbecfd', 'f', 'e', 'e', 'bcfafe', 'fdfaef', 'ddbad', 'cbee', 'a', 'dec', 'fd', \n",
    "            'd', 'dee', 'daadcd', 'fbaaab', 'b', 'f', 'cabffd', 'edfd', 'fafccbc', 'cbdbad', 'ceaadae', \n",
    "            'eafdfd', 'abebfc', 'b', 'bdbeffe', 'aabcabd', 'fcbaab', 'dae', 'd', 'fdccbd', 'eaedfd', 'dbbc', \n",
    "            'fb', 'bcddb', 'abddac', 'da', 'abedf', 'fa', 'ccbaa', 'efae', 'abd', 'aebe', 'cdcd', 'd', 'abcc', \n",
    "            'edccba', 'dedd', 'a', 'b', 'a', 'd', 'fbbdefd', 'ccfdcae', 'aaabd', 'cdbffb', 'fcdfcef', 'cfbae', \n",
    "            'a', 'ebe', 'c', 'b', 'afdcacb', 'ad', 'ffaeb', 'a', 'dfffdea', 'bfa']\n",
    "\n",
    "# En una sola línea, ¿eh?:\n",
    "len(set(la_lista))"
   ]
  },
  {
   "cell_type": "markdown",
   "metadata": {},
   "source": [
    "#### 14. Escribe una función `word_frequency` en la que, dada una colección (lista) de palabras (que pueden repetirse), devuelva un conjunto de pares (`palabra`, `número de veces que aparece dicha palabra en la colección`):"
   ]
  },
  {
   "cell_type": "code",
   "execution_count": 31,
   "metadata": {},
   "outputs": [
    {
     "data": {
      "text/plain": [
       "{'hola': 3, 'que': 2, 'tal': 2}"
      ]
     },
     "execution_count": 31,
     "metadata": {},
     "output_type": "execute_result"
    }
   ],
   "source": [
    "def word_frequency(lista):\n",
    "    diccionario = {palabra: lista.count(palabra) for palabra in lista}\n",
    "    return diccionario\n",
    "\n",
    "word_frequency([\"hola\",\"hola\",\"que\",\"que\",\"tal\",\"tal\",\"hola\"])"
   ]
  },
  {
   "cell_type": "markdown",
   "metadata": {},
   "source": [
    "#### 15. Crea una clase llamada `CarritoDeLaCompra` que satisfaga las siguientes condiciones:\n",
    "+ Un carrito, nada más creado (es decir, al crear una instancia), está vacío.\n",
    "+ El carrito tiene un método llamado `anadir_producto`, que toma como argumentos un string que es el nombre de un artículo (por ejemplo: `\"plátanos\"`) y la cantidad. Este método añade dicho producto y cantidad al carrito.\n",
    "+ Asimismo, tiene otro método llamado `quitar_producto`, que toma los mismos argumentos (producto y cantidad); pero los quita del carrito en vez de añadirlos. Si se \"pide\" quitar mayor cantidad que la que hay en el carrito, o de un producto que no está en el carrito, no se hace la operación, y se imprime un string de error.\n",
    "+ En cualquier momento debe poder utilizarse el método `ver_carrito`, y debe devolver los productos presentes en el carrito, así como su cantidad. Solo debe devolver cada producto una vez, es decir: si hicimos `anadir_producto(\"tomates\", 2)` y luego `anadir_producto(\"tomates\", 3)`, `ver_carrito` solo debe devolver algo similar a `[(\"tomates\", 5)]`.\n",
    "\n",
    "Una vez definida la clase, crea una instancia de ella y prueba a ir añadiendo, quitando y mirando el carrito."
   ]
  },
  {
   "cell_type": "code",
   "execution_count": 7,
   "metadata": {},
   "outputs": [
    {
     "data": {
      "text/plain": [
       "[('platanos', 3), ('peras', 1), ('limones', 5)]"
      ]
     },
     "execution_count": 7,
     "metadata": {},
     "output_type": "execute_result"
    }
   ],
   "source": [
    "class CarritoDeLaCompra:\n",
    "    \n",
    "    def __init__(self):\n",
    "        self.productos = {}\n",
    "        \n",
    "    def anadir_producto(self, nombre, cantidad):\n",
    "        if cantidad > 0:\n",
    "            if nombre in self.productos:\n",
    "                self.productos[nombre] += cantidad\n",
    "            else:\n",
    "                self.productos[nombre] = cantidad\n",
    "                \n",
    "    def quitar_producto(self, nombre, cantidad):\n",
    "        if nombre in self.productos and cantidad > 0:\n",
    "            if self.productos[nombre] >= cantidad:\n",
    "                self.productos[nombre] -= cantidad\n",
    "                if self.productos[nombre] == 0:\n",
    "                    del self.productos[nombre]\n",
    "            else:\n",
    "                print(\"No se pueden quitar más productos de los que hay en el carrito\")\n",
    "        else:\n",
    "            print(\"El producto no está en el carrito\")\n",
    "            \n",
    "    def ver_carrito(self):\n",
    "        carrito = []\n",
    "        for producto, cantidad in self.productos.items():\n",
    "            carrito.append((producto, cantidad))\n",
    "        return carrito\n",
    "\n",
    "carrito = CarritoDeLaCompra()\n",
    "\n",
    "carrito.anadir_producto(\"platanos\",5)\n",
    "carrito.ver_carrito()\n",
    "carrito.quitar_producto(\"platanos\",2)\n",
    "carrito.ver_carrito()\n",
    "carrito.anadir_producto(\"peras\",1)\n",
    "carrito.ver_carrito()\n",
    "carrito.anadir_producto(\"limones\",6)\n",
    "carrito.ver_carrito()\n",
    "carrito.quitar_producto(\"limones\",1)\n",
    "carrito.ver_carrito()"
   ]
  }
 ],
 "metadata": {
  "kernelspec": {
   "display_name": "Python 3 (ipykernel)",
   "language": "python",
   "name": "python3"
  },
  "language_info": {
   "codemirror_mode": {
    "name": "ipython",
    "version": 3
   },
   "file_extension": ".py",
   "mimetype": "text/x-python",
   "name": "python",
   "nbconvert_exporter": "python",
   "pygments_lexer": "ipython3",
   "version": "3.9.13"
  },
  "toc": {
   "base_numbering": 1,
   "nav_menu": {},
   "number_sections": true,
   "sideBar": true,
   "skip_h1_title": false,
   "title_cell": "Table of Contents",
   "title_sidebar": "Contents",
   "toc_cell": false,
   "toc_position": {},
   "toc_section_display": true,
   "toc_window_display": false
  },
  "varInspector": {
   "cols": {
    "lenName": 16,
    "lenType": 16,
    "lenVar": 40
   },
   "kernels_config": {
    "python": {
     "delete_cmd_postfix": "",
     "delete_cmd_prefix": "del ",
     "library": "var_list.py",
     "varRefreshCmd": "print(var_dic_list())"
    },
    "r": {
     "delete_cmd_postfix": ") ",
     "delete_cmd_prefix": "rm(",
     "library": "var_list.r",
     "varRefreshCmd": "cat(var_dic_list()) "
    }
   },
   "types_to_exclude": [
    "module",
    "function",
    "builtin_function_or_method",
    "instance",
    "_Feature"
   ],
   "window_display": false
  }
 },
 "nbformat": 4,
 "nbformat_minor": 1
}
